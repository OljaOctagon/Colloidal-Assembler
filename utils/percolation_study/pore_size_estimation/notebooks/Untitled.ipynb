{
 "cells": [
  {
   "cell_type": "markdown",
   "metadata": {},
   "source": [
    "## Pore size estimation with voxels "
   ]
  },
  {
   "cell_type": "markdown",
   "metadata": {},
   "source": [
    "### Algorithm \n",
    "* Import xyz file \n",
    "* Make cell lists \n",
    "* Make voxels and calculate particle collision list via cell list \n",
    "* For all voxels calculate if cell is occupied by more than half by particle via MC estimation \n",
    "  - if yes: voxcel element is set to occupied \n",
    "  - if no: voxcel element is set to empty \n",
    "* After voxcel occupation is calculated, calculated all connected voxcel clusters as pore. The pore size is given by the volume of all voxcels belonging to one pore "
   ]
  },
  {
   "cell_type": "code",
   "execution_count": 2,
   "metadata": {},
   "outputs": [],
   "source": [
    "import numpy as np \n",
    "import pandas as pd \n",
    "import networkx as nx \n",
    "import matplotlib as pyplot "
   ]
  },
  {
   "cell_type": "code",
   "execution_count": null,
   "metadata": {},
   "outputs": [],
   "source": [
    "def generate_cell_lists(min_l, Lbox):\n",
    "    pass\n",
    "\n",
    "def generate_voxcels(lvoxel):\n",
    "    pass \n",
    "\n",
    "def point_in_particle(particle,point):\n",
    "    overlap_count=1\n",
    "    return overlap_count \n",
    "    \n",
    "def estimate_volume(particle,point,N_MC_steps):\n",
    "    overlap_count=0\n",
    "    for stepi in range(N_MC_steps):\n",
    "        point_in_particle(particle,point):\n",
    "            overlap_count += point_in_particle(particle,point)\n",
    "        \n",
    "    acceptance = overlap_count/N_MC_steps\n",
    "    return acceptance \n",
    "\n",
    "if__name__=='__main__':\n",
    "    \n",
    "    # tuple (2d or 3d) list of cell ids as keysdict entries contain all cells of that list \n",
    "    cell_list = make_cell_lists()\n",
    "    \n",
    "    # cell_list.particle_dict, cell_list.lx, cell_list.ly, cell_list.lz \n",
    "    # cell_list.neighbours \n",
    "    \n",
    "    fraction_cell_list = 0.1\n",
    "    lxv = cell_list.lx*0.1 \n",
    "    \n",
    "    # voxel ids also tuples \n",
    "    cell_list.voxcel_dict \n",
    "    \n",
    "    for cell in cell_lists: \n",
    "        for voxcel in cell: \n",
    "            voxel_volume_fraction = 0 \n",
    "            for particle in cell_neighbours:\n",
    "                voxcel_particle_distance \n",
    "                if voxcel_particle_distance < max(bounding_sphere_particle, bounding_sphere_voxcel):\n",
    "                    overlaps = check_overlap(voxcel, particle)\n",
    "                    if overlaps:\n",
    "                        voxcel_volume_fraction += estimate_volume\n",
    "                        if voxcel_volume_fraction > 0.5:\n",
    "                            voxcel.occupied = True \n",
    "                            break loop \n",
    "                        else:\n",
    "                            continue\n",
    "              \n",
    "                \n",
    "    get_voxcel_neighbours()\n",
    "    voxcel_links: edges vx0, vx10 \n",
    "     \n",
    "    G = nx.Graph()\n",
    "    G.add_edges_from(voxcel_links)\n",
    "    domains = list(nx.connected_components(G))\n",
    "    domain_lengths = np.array([ len(domain) for domain in domains ])\n",
    "    \n",
    "    vp=np.power(lxv,3)\n",
    "    pore_volumes = vp*domain_lengths\n",
    "                \n",
    "                    \n",
    "    \n"
   ]
  },
  {
   "cell_type": "code",
   "execution_count": 5,
   "metadata": {},
   "outputs": [
    {
     "name": "stdout",
     "output_type": "stream",
     "text": [
      "12.566370614359172\n"
     ]
    }
   ],
   "source": [
    "import numpy as np \n",
    "\n",
    "class sphere:\n",
    "    def __init__(self, radius):\n",
    "        self.radius = radius\n",
    "    \n",
    "    def area(self):\n",
    "        return np.power(self.radius,2)*np.pi\n",
    "\n",
    "sphere1 = sphere(2)\n",
    "print (sphere1.area())\n"
   ]
  },
  {
   "cell_type": "code",
   "execution_count": null,
   "metadata": {},
   "outputs": [],
   "source": []
  }
 ],
 "metadata": {
  "kernelspec": {
   "display_name": "Python 3",
   "language": "python",
   "name": "python3"
  },
  "language_info": {
   "codemirror_mode": {
    "name": "ipython",
    "version": 3
   },
   "file_extension": ".py",
   "mimetype": "text/x-python",
   "name": "python",
   "nbconvert_exporter": "python",
   "pygments_lexer": "ipython3",
   "version": "3.7.0"
  }
 },
 "nbformat": 4,
 "nbformat_minor": 2
}
