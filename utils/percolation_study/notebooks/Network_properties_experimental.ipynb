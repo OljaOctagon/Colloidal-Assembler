{
 "cells": [
  {
   "cell_type": "code",
   "execution_count": null,
   "metadata": {},
   "outputs": [],
   "source": [
    "import numpy as np \n",
    "import matplotlib.pyplot as plt \n",
    "import pandas as pd "
   ]
  },
  {
   "cell_type": "code",
   "execution_count": null,
   "metadata": {},
   "outputs": [],
   "source": [
    "df1=pd.read_pickle(\"results_percolation_ALL.pickle\")\n",
    "df2 =pd.read_pickle(\"results_percolation_002.pickle\")"
   ]
  },
  {
   "cell_type": "code",
   "execution_count": null,
   "metadata": {},
   "outputs": [],
   "source": [
    "df = pd.concat([df1,df2], ignore_index = True )\n",
    "df.head()"
   ]
  },
  {
   "cell_type": "code",
   "execution_count": null,
   "metadata": {},
   "outputs": [],
   "source": [
    "df.phi.unique()\n",
    "df.sort_values(['ptype','temperature','phi','delta','current_time'])"
   ]
  },
  {
   "cell_type": "code",
   "execution_count": null,
   "metadata": {},
   "outputs": [],
   "source": [
    "\n",
    "grouped1 = df1.sort_values(['temperature','phi','delta']).groupby(['ptype','delta','phi'])\n",
    "grouped2 = df2.sort_values(['temperature','phi','delta']).groupby(['ptype','delta','phi'])\n",
    "\n",
    "phi=0.01\n",
    "fig,(ax1,ax2) = plt.subplots(1,2)\n",
    "ptype = 'double_manta_asymm_1'\n",
    "delta = '0.2'\n",
    "phis=[0.1,0.2,0.3]\n",
    "for (g1,g2) in zip(grouped1,grouped2):\n",
    "    \n",
    "    if g1[0][0] != ptype or g1[0][1] != delta:\n",
    "        fig,(ax1,ax2) = plt.subplots(1,2)\n",
    "        ptype = g1[0][0]\n",
    "        delta = g1[0][1]\n",
    "   \n",
    "    plt.title('{},{}'.format(g1[0][0],g1[0][1]))\n",
    "\n",
    "    if g1[0][2] in phis:\n",
    "        ax1.plot(g1[1].temperature, g1[1].frac_largest_virtual, label='$\\phi =$ {}'.format(g1[0][2]))\n",
    "        ax1.set_ylim([0,1.1])\n",
    "        \n",
    "        ax2.plot(g2[1].temperature, g2[1].frac_largest_virtual, label='$\\phi =$ {}'.format(g2[0][2]))\n",
    "        ax2.set_ylim([0,1.1])\n",
    "    \n",
    "    \n",
    "    plt.legend(loc='best', bbox_to_anchor=(0.8, 0.5, 0.5, 0.5))\n",
    "\n",
    "plt.show()\n",
    "    "
   ]
  },
  {
   "cell_type": "code",
   "execution_count": null,
   "metadata": {},
   "outputs": [],
   "source": [
    "import numpy as np\n",
    "import seaborn as sns\n",
    "import matplotlib.pylab as plt\n",
    "import matplotlib as mpl\n",
    "plt.style.use(\"seaborn\")\n",
    "\n",
    "df2 = df2.sort_values(['ptype', 'delta','temperature','phi'])\n",
    "\n",
    "ptypes = df2.ptype.unique()\n",
    "deltas = df2.delta.unique()\n",
    "\n",
    "phis = df2.phi.unique()\n",
    "temps = df2.temperature.unique()\n",
    "\n",
    "\n",
    "\n",
    "for pi in ptypes:\n",
    "    for di in deltas:\n",
    "        fig,ax = plt.subplots(figsize=(10,10))\n",
    "        arr = df2[(df2['ptype'] == pi) & (df2['delta']== di)]['frac_largest_virtual'].values\n",
    "        arr = np.reshape(arr, (len(temps),len(phis)))\n",
    "        \n",
    "        arr = np.round(arr, decimals=2)\n",
    "        mpl.rc(\"legend\", fontsize=50)\n",
    "        heat_map = sns.heatmap(arr,linewidth=1, annot=True, cmap='rainbow')\n",
    "        plt.title(\"{},$\\delta$ = {}\".format(pi,di))\n",
    "        plt.xlabel(\"$\\phi$\")\n",
    "        plt.ylabel(\"Temperature\")\n",
    "        \n",
    "        new_xticks = phis\n",
    "        plt.xticks(np.arange(0,len(phis)),new_xticks, rotation=45, horizontalalignment='right')\n",
    "        \n",
    "        new_yticks = temps\n",
    "        plt.yticks(np.arange(0,len(temps)),new_yticks)\n",
    "        heat_map.invert_yaxis()\n",
    "             \n",
    "            \n",
    "                           \n",
    "                   \n",
    "        \n",
    "plt.show()"
   ]
  },
  {
   "cell_type": "code",
   "execution_count": null,
   "metadata": {},
   "outputs": [],
   "source": [
    "np.arange(10)"
   ]
  },
  {
   "cell_type": "markdown",
   "metadata": {},
   "source": [
    "### Representative networks \n",
    "double_manta_asymm_1 \n",
    "double_mouse_asymm_1\n",
    "double_mouse_symm_1\n",
    "double_mouse_symm_2\n",
    "\n",
    "phi=0.125, delta=0.2, T=0.01\n",
    "\n",
    "data files:\n",
    "psi_op.dat\n",
    "patch_network.dat\n",
    "\n",
    "Calculate:\n",
    "average degree\n",
    "degree distribution \n",
    "comunities, \n",
    "loops \n",
    "draw network with p,np bonds "
   ]
  },
  {
   "cell_type": "code",
   "execution_count": null,
   "metadata": {},
   "outputs": [],
   "source": [
    "import networkx as nx \n",
    "import numpy as np "
   ]
  },
  {
   "cell_type": "code",
   "execution_count": null,
   "metadata": {},
   "outputs": [],
   "source": [
    "def read_bonds(filen):\n",
    "\tfirst_line_pair = [0,0,0,0]\n",
    "\tcut=False\n",
    "\twith open(filen, 'r') as f:\n",
    "\t\tnetwork_list = []\n",
    "\t\tfor line in f:\n",
    "\t\t\tif \"#\" in line:\n",
    "\t\t\t\tnetwork_list.append([])\n",
    "\t\t\t\tfirst_line_pair = [0,0,0,0]\n",
    "\t\t\t\tcut=False\n",
    "\n",
    "\t\t\telse:\n",
    "\t\t\t\tline_counter=len(network_list[-1])\n",
    "\t\t\t\tpairs = list(map(int, line.split(\" \")))\n",
    "\t\t\t\tif pairs == first_line_pair or cut==True:\n",
    "\t\t\t\t\tcut=True\n",
    "\t\t\t\telse:\n",
    "\t\t\t\t\tnetwork_list[-1].append(np.array(pairs))\n",
    "\n",
    "\t\t\t\tif line_counter == 0:\n",
    "\t\t\t\t\tfirst_line_pair = pairs\n",
    "\tnetwork_list = [ np.array(item) for item in network_list]\n",
    "\n",
    "\treturn network_list\n"
   ]
  },
  {
   "cell_type": "code",
   "execution_count": null,
   "metadata": {},
   "outputs": [],
   "source": [
    "def read_network(filedir, ptype, phi,delta,T):\n",
    "    \n",
    "    dirn=\"{}/{}_phi_{}_delta_{}_temp_{}\".format(filedir,ptype,phi,delta,T)\n",
    "    filen=\"{}/patch_network.dat\".format(dirn)\n",
    "    \n",
    "    connections = read_bonds(filen)[-1]\n",
    "    print(connections)\n",
    "    \n",
    "    G=nx.Graph()\n",
    "    G.add_edges_from(connections[:,:2])\n",
    "    \n",
    "    return G\n",
    "\n",
    "    \n",
    "    "
   ]
  },
  {
   "cell_type": "code",
   "execution_count": null,
   "metadata": {},
   "outputs": [],
   "source": [
    "filedir=\"/Users/ada/Documents/Code_Development_2020/rhombi/percolations_study/vsc3/percolation_runs/copy_dir\"\n",
    "ptype='double_mouse_asymm_1'\n",
    "phi=0.125\n",
    "delta=0.2\n",
    "T=0.01 \n",
    "G=read_network(filedir,ptype,phi,delta,T)\n",
    "\n",
    "degree_sequence=[ d for n,d in G.degree()]\n",
    "average_degree = np.mean(degree_sequence)\n",
    "\n",
    "largest_cc = max(nx.connected_components(G), key=len)\n",
    "S = G.subgraph(largest_cc).copy()\n",
    "\n"
   ]
  },
  {
   "cell_type": "code",
   "execution_count": null,
   "metadata": {},
   "outputs": [],
   "source": [
    "\n"
   ]
  }
 ],
 "metadata": {
  "kernelspec": {
   "display_name": "Python 3",
   "language": "python",
   "name": "python3"
  },
  "language_info": {
   "codemirror_mode": {
    "name": "ipython",
    "version": 3
   },
   "file_extension": ".py",
   "mimetype": "text/x-python",
   "name": "python",
   "nbconvert_exporter": "python",
   "pygments_lexer": "ipython3",
   "version": "3.7.0"
  }
 },
 "nbformat": 4,
 "nbformat_minor": 2
}
