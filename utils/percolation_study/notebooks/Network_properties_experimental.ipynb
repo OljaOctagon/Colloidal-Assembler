{
 "cells": [
  {
   "cell_type": "code",
   "execution_count": null,
   "metadata": {},
   "outputs": [],
   "source": [
    "import numpy as np \n",
    "import matplotlib.pyplot as plt \n",
    "import pandas as pd "
   ]
  },
  {
   "cell_type": "code",
   "execution_count": null,
   "metadata": {},
   "outputs": [],
   "source": [
    "df1=pd.read_pickle(\"results_percolation_ALL.pickle\")\n",
    "df2 =pd.read_pickle(\"results_percolation_002.pickle\")"
   ]
  },
  {
   "cell_type": "code",
   "execution_count": null,
   "metadata": {},
   "outputs": [],
   "source": [
    "df = pd.concat([df1,df2], ignore_index = True )\n",
    "df.head()"
   ]
  },
  {
   "cell_type": "code",
   "execution_count": null,
   "metadata": {},
   "outputs": [],
   "source": [
    "df.phi.unique()\n",
    "df.sort_values(['ptype','temperature','phi','delta','current_time'])"
   ]
  },
  {
   "cell_type": "code",
   "execution_count": null,
   "metadata": {},
   "outputs": [],
   "source": [
    "\n",
    "grouped1 = df1.sort_values(['temperature','phi','delta']).groupby(['ptype','delta','phi'])\n",
    "grouped2 = df2.sort_values(['temperature','phi','delta']).groupby(['ptype','delta','phi'])\n",
    "\n",
    "phi=0.01\n",
    "fig,(ax1,ax2) = plt.subplots(1,2)\n",
    "ptype = 'double_manta_asymm_1'\n",
    "delta = '0.2'\n",
    "phis=[0.1,0.2,0.3]\n",
    "for (g1,g2) in zip(grouped1,grouped2):\n",
    "    \n",
    "    if g1[0][0] != ptype or g1[0][1] != delta:\n",
    "        fig,(ax1,ax2) = plt.subplots(1,2)\n",
    "        ptype = g1[0][0]\n",
    "        delta = g1[0][1]\n",
    "   \n",
    "    plt.title('{},{}'.format(g1[0][0],g1[0][1]))\n",
    "\n",
    "    if g1[0][2] in phis:\n",
    "        ax1.plot(g1[1].temperature, g1[1].frac_largest_virtual, label='$\\phi =$ {}'.format(g1[0][2]))\n",
    "        ax1.set_ylim([0,1.1])\n",
    "        \n",
    "        ax2.plot(g2[1].temperature, g2[1].frac_largest_virtual, label='$\\phi =$ {}'.format(g2[0][2]))\n",
    "        ax2.set_ylim([0,1.1])\n",
    "    \n",
    "    \n",
    "    plt.legend(loc='best', bbox_to_anchor=(0.8, 0.5, 0.5, 0.5))\n",
    "\n",
    "plt.show()\n",
    "    "
   ]
  },
  {
   "cell_type": "code",
   "execution_count": null,
   "metadata": {},
   "outputs": [],
   "source": [
    "import numpy as np\n",
    "import seaborn as sns\n",
    "import matplotlib.pylab as plt\n",
    "import matplotlib as mpl\n",
    "plt.style.use(\"seaborn\")\n",
    "\n",
    "df2 = df2.sort_values(['ptype', 'delta','temperature','phi'])\n",
    "\n",
    "ptypes = df2.ptype.unique()\n",
    "deltas = df2.delta.unique()\n",
    "\n",
    "phis = df2.phi.unique()\n",
    "temps = df2.temperature.unique()\n",
    "\n",
    "\n",
    "\n",
    "for pi in ptypes:\n",
    "    for di in deltas:\n",
    "        fig,ax = plt.subplots(figsize=(10,10))\n",
    "        arr = df2[(df2['ptype'] == pi) & (df2['delta']== di)]['frac_largest_virtual'].values\n",
    "        arr = np.reshape(arr, (len(temps),len(phis)))\n",
    "        \n",
    "        arr = np.round(arr, decimals=2)\n",
    "        mpl.rc(\"legend\", fontsize=50)\n",
    "        heat_map = sns.heatmap(arr,linewidth=1, annot=True, cmap='rainbow')\n",
    "        plt.title(\"{},$\\delta$ = {}\".format(pi,di))\n",
    "        plt.xlabel(\"$\\phi$\")\n",
    "        plt.ylabel(\"Temperature\")\n",
    "        \n",
    "        new_xticks = phis\n",
    "        plt.xticks(np.arange(0,len(phis)),new_xticks, rotation=45, horizontalalignment='right')\n",
    "        \n",
    "        new_yticks = temps\n",
    "        plt.yticks(np.arange(0,len(temps)),new_yticks)\n",
    "        heat_map.invert_yaxis()\n",
    "             \n",
    "            \n",
    "                           \n",
    "                   \n",
    "        \n",
    "plt.show()"
   ]
  },
  {
   "cell_type": "code",
   "execution_count": null,
   "metadata": {},
   "outputs": [],
   "source": [
    "np.arange(10)"
   ]
  },
  {
   "cell_type": "markdown",
   "metadata": {},
   "source": [
    "### Representative networks \n",
    "double_manta_asymm_1 \n",
    "double_mouse_asymm_1\n",
    "double_mouse_symm_1\n",
    "double_mouse_symm_2\n",
    "\n",
    "phi=0.125, delta=0.2, T=0.01\n",
    "\n",
    "data files:\n",
    "psi_op.dat\n",
    "patch_network.dat\n",
    "\n",
    "Calculate:\n",
    "average degree\n",
    "degree distribution \n",
    "comunities, \n",
    "loops \n",
    "draw network with p,np bonds "
   ]
  },
  {
   "cell_type": "code",
   "execution_count": null,
   "metadata": {},
   "outputs": [],
   "source": [
    "import networkx as nx \n",
    "import numpy as np \n",
    "import matplotlib.pyplot as plt "
   ]
  },
  {
   "cell_type": "code",
   "execution_count": null,
   "metadata": {},
   "outputs": [],
   "source": [
    "def read_bonds(filen):\n",
    "\tfirst_line_pair = [0,0,0,0]\n",
    "\tcut=False\n",
    "\twith open(filen, 'r') as f:\n",
    "\t\tnetwork_list = []\n",
    "\t\tfor line in f:\n",
    "\t\t\tif \"#\" in line:\n",
    "\t\t\t\tnetwork_list.append([])\n",
    "\t\t\t\tfirst_line_pair = [0,0,0,0]\n",
    "\t\t\t\tcut=False\n",
    "\n",
    "\t\t\telse:\n",
    "\t\t\t\tline_counter=len(network_list[-1])\n",
    "\t\t\t\tpairs = list(map(int, line.split(\" \")))\n",
    "\t\t\t\tif pairs == first_line_pair or cut==True:\n",
    "\t\t\t\t\tcut=True\n",
    "\t\t\t\telse:\n",
    "\t\t\t\t\tnetwork_list[-1].append(np.array(pairs))\n",
    "\n",
    "\t\t\t\tif line_counter == 0:\n",
    "\t\t\t\t\tfirst_line_pair = pairs\n",
    "\tnetwork_list = [ np.array(item) for item in network_list]\n",
    "\n",
    "\treturn network_list\n"
   ]
  },
  {
   "cell_type": "code",
   "execution_count": null,
   "metadata": {},
   "outputs": [],
   "source": [
    "def read_network(filedir, ptype, phi,delta,T):\n",
    "    \n",
    "    dirn=\"{}/{}/{}_phi_{}_delta_{}_temp_{}\".format(filedir,ptype,ptype,phi,delta,T)\n",
    "    filen=\"{}/patch_network.dat\".format(dirn)\n",
    "    \n",
    "    connections = read_bonds(filen)[-1]\n",
    " \n",
    "    G=nx.Graph()\n",
    "    G.add_edges_from(connections[:,:2])\n",
    "    \n",
    "    return G\n",
    "\n",
    "    \n",
    "    "
   ]
  },
  {
   "cell_type": "code",
   "execution_count": null,
   "metadata": {},
   "outputs": [],
   "source": [
    "#filedir=\"/Users/ada/Documents/Code_Development_2020/rhombi/percolations_study/vsc3/percolation_runs/copy_dir\"\n",
    "filedir=\"/home/carina/Documents/2D_patchy/percolation_study/vsc3/runs/runs\"\n",
    "\n",
    "ptype='double_mouse_symm_2'\n",
    "phi=0.125\n",
    "delta=0.2\n",
    "T=0.01 \n",
    "G=read_network(filedir,ptype,phi,delta,T)\n",
    "\n",
    "\n",
    "\n",
    "degree_sequence=[ d for n,d in G.degree()]\n",
    "average_degree = np.mean(degree_sequence)\n",
    "\n",
    "largest_cc = max(nx.connected_components(G), key=len)\n",
    "S = G.subgraph(largest_cc).copy()\n",
    " \n"
   ]
  },
  {
   "cell_type": "code",
   "execution_count": null,
   "metadata": {},
   "outputs": [],
   "source": [
    "fig,ax= plt.subplots(figsize=(30,30))\n",
    "\n",
    "nx.draw(G, pos=nx.spring_layout(G, iterations=500), node_size=70)\n",
    "plt.show()"
   ]
  },
  {
   "cell_type": "code",
   "execution_count": null,
   "metadata": {},
   "outputs": [],
   "source": [
    "fig,ax= plt.subplots(figsize=(30,30))\n",
    "\n",
    "nx.draw(G, pos=nx.spring_layout(G, iterations=500), node_size=70)\n",
    "plt.show()"
   ]
  },
  {
   "cell_type": "code",
   "execution_count": null,
   "metadata": {},
   "outputs": [],
   "source": [
    "fig,ax= plt.subplots(figsize=(30,30))\n",
    "\n",
    "nx.draw(G, pos=nx.spring_layout(G, iterations=500), node_size=70)\n",
    "plt.show()"
   ]
  },
  {
   "cell_type": "code",
   "execution_count": null,
   "metadata": {},
   "outputs": [],
   "source": [
    "fig,ax= plt.subplots(figsize=(30,30))\n",
    "\n",
    "nx.draw(G, pos=nx.spring_layout(G, iterations=500), node_size=70)\n",
    "plt.show()"
   ]
  },
  {
   "cell_type": "code",
   "execution_count": null,
   "metadata": {},
   "outputs": [],
   "source": [
    "a=G.number_of_edges()\n",
    "b=G.number_of_nodes()\n",
    "\n",
    "print(a/b)"
   ]
  },
  {
   "cell_type": "code",
   "execution_count": null,
   "metadata": {},
   "outputs": [],
   "source": [
    "degree_sequence=[ d for n,d in G.degree()]\n",
    "average_degree = np.mean(degree_sequence)"
   ]
  },
  {
   "cell_type": "code",
   "execution_count": null,
   "metadata": {},
   "outputs": [],
   "source": [
    "average_degree"
   ]
  },
  {
   "cell_type": "code",
   "execution_count": null,
   "metadata": {},
   "outputs": [],
   "source": [
    "N=1500\n",
    "N_fc = (N*(N-1))/2\n",
    "print(N_fc)"
   ]
  },
  {
   "cell_type": "code",
   "execution_count": null,
   "metadata": {},
   "outputs": [],
   "source": [
    "a/N_fc"
   ]
  },
  {
   "cell_type": "code",
   "execution_count": null,
   "metadata": {},
   "outputs": [],
   "source": [
    "RG = nx.fast_gnp_random_graph(1500, a/N_fc)\n",
    "fig,ax= plt.subplots(figsize=(30,30))\n",
    "\n",
    "\n",
    "largest_cc = max(nx.connected_components(RG), key=len)\n",
    "RS = RG.subgraph(largest_cc).copy()\n",
    " \n",
    "\n",
    "nx.draw(RS, pos=nx.spring_layout(RS, iterations=500), node_size=70)\n",
    "plt.show()\n",
    "\n"
   ]
  },
  {
   "cell_type": "code",
   "execution_count": null,
   "metadata": {},
   "outputs": [],
   "source": [
    "BG = nx.random_degree_sequence_graph(degree_sequence,tries=10)\n",
    "\n",
    "fig,ax= plt.subplots(figsize=(30,30))\n",
    "largest_cc = max(nx.connected_components(BG), key=len)\n",
    "SB = BG.subgraph(largest_cc).copy()\n",
    "nx.draw(SB, pos=nx.spring_layout(SB, iterations=500), node_size=70)\n",
    "plt.show()\n",
    "\n",
    "\n",
    "\n",
    "\n",
    "\n"
   ]
  },
  {
   "cell_type": "code",
   "execution_count": null,
   "metadata": {},
   "outputs": [],
   "source": [
    "filedir=\"/home/carina/Documents/2D_patchy/percolation_study/vsc3/runs/runs\"\n",
    "\n",
    "fig, ax = plt.subplots(figsize=(10,10))\n",
    "phi=0.125\n",
    "delta=0.2\n",
    "T=0.01 \n",
    "\n",
    "colors=['r','g','b','m']\n",
    "ptypes= ['double_manta_asymm_1', 'double_mouse_asymm_1', 'double_mouse_symm_1', 'double_mouse_symm_2']\n",
    "\n",
    "for ptype, color in zip(ptypes, colors):\n",
    "    G=read_network(filedir,ptype,phi,delta,T)\n",
    "    largest_cc = max(nx.connected_components(G), key=len)\n",
    "    S = G.subgraph(largest_cc).copy()    \n",
    "   \n",
    "    degree_sequence=[ d for n,d in S.degree()]\n",
    "    average_degree = np.mean(degree_sequence)\n",
    "\n",
    "    plt.hist(degree_sequence,range=(1,4), density=True,histtype='step',color=color, label=ptype, linewidth=3)\n",
    "_\n",
    "plt.xticks(range(1,5))    \n",
    "plt.legend()\n",
    "plt.show()\n",
    "\n"
   ]
  },
  {
   "cell_type": "code",
   "execution_count": null,
   "metadata": {},
   "outputs": [],
   "source": [
    "filedir=\"/home/carina/Documents/2D_patchy/percolation_study/vsc3/runs/runs\"\n",
    "\n",
    "fig, ax = plt.subplots(figsize=(10,10))\n",
    "phi=0.125\n",
    "delta=0.3\n",
    "T=0.01 \n",
    "\n",
    "colors=['r','g','b','m']\n",
    "ptypes= ['double_manta_asymm_1', 'double_mouse_asymm_1', 'double_mouse_symm_1', 'double_mouse_symm_2']\n",
    "\n",
    "for ptype, color in zip(ptypes, colors):\n",
    "    G=read_network(filedir,ptype,phi,delta,T)\n",
    "    largest_cc = max(nx.connected_components(G), key=len)\n",
    "    S = G.subgraph(largest_cc).copy()    \n",
    "   \n",
    "    degree_sequence=[ d for n,d in S.degree()]\n",
    "    average_degree = np.mean(degree_sequence)\n",
    "\n",
    "    plt.hist(degree_sequence,range=(1,4), density=True,histtype='step',color=color, label=ptype, linewidth=3)\n",
    "_\n",
    "plt.xticks(range(1,5))    \n",
    "plt.legend()\n",
    "plt.show()\n",
    "\n"
   ]
  },
  {
   "cell_type": "code",
   "execution_count": null,
   "metadata": {},
   "outputs": [],
   "source": [
    "filedir=\"/home/carina/Documents/2D_patchy/percolation_study/vsc3/runs/runs\"\n",
    "\n",
    "fig, ax = plt.subplots(figsize=(10,10))\n",
    "phi=0.125\n",
    "delta=0.2\n",
    "T=0.05 \n",
    "\n",
    "colors=['r','g','b','m']\n",
    "ptypes= ['double_manta_asymm_1', 'double_mouse_asymm_1', 'double_mouse_symm_1', 'double_mouse_symm_2']\n",
    "\n",
    "for ptype, color in zip(ptypes, colors):\n",
    "    G=read_network(filedir,ptype,phi,delta,T)\n",
    "    largest_cc = max(nx.connected_components(G), key=len)\n",
    "    S = G.subgraph(largest_cc).copy()    \n",
    "   \n",
    "    degree_sequence=[ d for n,d in S.degree()]\n",
    "    average_degree = np.mean(degree_sequence)\n",
    "\n",
    "    plt.hist(degree_sequence,range=(1,4), density=True,histtype='step',color=color, label=ptype, linewidth=3)\n",
    "_\n",
    "plt.xticks(range(1,5))    \n",
    "plt.legend()\n",
    "plt.show()\n"
   ]
  },
  {
   "cell_type": "code",
   "execution_count": null,
   "metadata": {},
   "outputs": [],
   "source": [
    "filedir=\"/home/carina/Documents/2D_patchy/percolation_study/vsc3/runs/runs\"\n",
    "\n",
    "fig, ax = plt.subplots(figsize=(10,10))\n",
    "phi=0.1\n",
    "delta=0.3\n",
    "T=0.04\n",
    "\n",
    "colors=['r','g','b','m']\n",
    "ptypes= ['double_manta_asymm_1', 'double_mouse_asymm_1', 'double_mouse_symm_1', 'double_mouse_symm_2']\n",
    "\n",
    "for ptype, color in zip(ptypes, colors):\n",
    "    G=read_network(filedir,ptype,phi,delta,T)\n",
    "    largest_cc = max(nx.connected_components(G), key=len)\n",
    "    S = G.subgraph(largest_cc).copy()    \n",
    "   \n",
    "    degree_sequence=[ d for n,d in S.degree()]\n",
    "    average_degree = np.mean(degree_sequence)\n",
    "\n",
    "    plt.hist(degree_sequence,range=(1,4), density=True,histtype='step',color=color, label=ptype, linewidth=3)\n",
    "_\n",
    "plt.xticks(range(1,5))    \n",
    "plt.legend()\n",
    "plt.show()\n"
   ]
  },
  {
   "cell_type": "code",
   "execution_count": null,
   "metadata": {},
   "outputs": [],
   "source": [
    "G_test = nx.Graph()\n",
    "G_test.add_edges_from([[1,2],[1,3],[2,3],[3,7],[2,4],[4,5],[5,6],[6,7],[7,5]])"
   ]
  },
  {
   "cell_type": "code",
   "execution_count": null,
   "metadata": {},
   "outputs": [],
   "source": [
    "print(nx.cycle_basis(G_test))"
   ]
  },
  {
   "cell_type": "code",
   "execution_count": null,
   "metadata": {},
   "outputs": [],
   "source": [
    "filedir=\"/home/carina/Documents/2D_patchy/percolation_study/vsc3/runs/runs\"\n",
    "\n",
    "fig, ax = plt.subplots(figsize=(20,20))\n",
    "phi=0.1\n",
    "delta=0.3\n",
    "T=0.04\n",
    "\n",
    "colors=['r','g','b','m']\n",
    "ptypes= ['double_manta_asymm_1', 'double_mouse_asymm_1', 'double_mouse_symm_1', 'double_mouse_symm_2']\n",
    "\n",
    "for ptype, color in zip(ptypes, colors):\n",
    "    G=read_network(filedir,ptype,phi,delta,T)\n",
    "    largest_cc = max(nx.connected_components(G), key=len)\n",
    "    S = G.subgraph(largest_cc).copy()    \n",
    "   \n",
    "    cycle_basis=nx.cycle_basis(S)\n",
    "    cycle_lengths = [ len(c) for c in cycle_basis]\n",
    "\n",
    "    plt.hist(cycle_lengths,density=True,histtype='step',color=color, label=ptype, linewidth=3)\n",
    "\n",
    "plt.legend()\n",
    "plt.show()\n"
   ]
  },
  {
   "cell_type": "code",
   "execution_count": null,
   "metadata": {},
   "outputs": [],
   "source": [
    "filedir=\"/home/carina/Documents/2D_patchy/percolation_study/vsc3/runs/runs\"\n",
    "\n",
    "fig, ax = plt.subplots(figsize=(20,20))\n",
    "phi=0.125\n",
    "delta=0.4\n",
    "T=0.01\n",
    "\n",
    "colors=['r','g','b','m']\n",
    "ptypes= ['double_manta_asymm_1', 'double_mouse_asymm_1', 'double_mouse_symm_1', 'double_mouse_symm_2']\n",
    "\n",
    "for ptype, color in zip(ptypes, colors):\n",
    "    G=read_network(filedir,ptype,phi,delta,T)\n",
    "    largest_cc = max(nx.connected_components(G), key=len)\n",
    "    S = G.subgraph(largest_cc).copy()    \n",
    "   \n",
    "    cycle_basis=nx.cycle_basis(S)\n",
    "    cycle_lengths = [ len(c) for c in cycle_basis]\n",
    "\n",
    "    plt.hist(cycle_lengths,density=True,bins=100,range=(0,200),histtype='step',color=color, label=ptype, linewidth=3)\n",
    "\n",
    "    \n",
    "cycle_basis=nx.cycle_basis(RG)\n",
    "cycle_lengths = [ len(c) for c in cycle_basis]\n",
    "plt.hist(cycle_lengths,density=True,bins=100,range=(0,200),histtype='step',color='y', label='ER-random-graph', linewidth=3)\n",
    "\n",
    "\n",
    "cycle_basis=nx.cycle_basis(BG)\n",
    "cycle_lengths = [ len(c) for c in cycle_basis]\n",
    "plt.hist(cycle_lengths,density=True,bins=100,range=(0,200),histtype='step',color='k', label='lim-degree-random-graph', linewidth=3)\n",
    "\n",
    "    \n",
    "    \n",
    "plt.xticks(range(3,20))\n",
    "plt.legend()\n",
    "plt.show()\n"
   ]
  },
  {
   "cell_type": "code",
   "execution_count": null,
   "metadata": {},
   "outputs": [],
   "source": []
  },
  {
   "cell_type": "code",
   "execution_count": null,
   "metadata": {},
   "outputs": [],
   "source": [
    "\n",
    "spectrum_RG=nx.adjacency_spectrum(RG)\n",
    "plt.hist(spectrum_RG,density=True,bins=100,histtype='step')\n",
    "plt.show()"
   ]
  },
  {
   "cell_type": "code",
   "execution_count": null,
   "metadata": {},
   "outputs": [],
   "source": [
    "RG1 = nx.fast_gnp_random_graph(100,0.05)\n",
    "spectrum_RG=nx.adjacency_spectrum(RG1)\n",
    "plt.plot(spectrum_RG)\n",
    "plt.show()"
   ]
  },
  {
   "cell_type": "code",
   "execution_count": null,
   "metadata": {},
   "outputs": [],
   "source": [
    "filedir=\"/home/carina/Documents/2D_patchy/percolation_study/vsc3/runs/runs\"\n",
    "\n",
    "fig, ax = plt.subplots(figsize=(20,20))\n",
    "phi=0.125\n",
    "delta=0.2\n",
    "T=0.01\n",
    "\n",
    "colors=['r','g','b','m']\n",
    "ptypes= ['double_manta_asymm_1', 'double_mouse_asymm_1', 'double_mouse_symm_1', 'double_mouse_symm_2']\n",
    "\n",
    "for ptype, color in zip(ptypes, colors):\n",
    "    G=read_network(filedir,ptype,phi,delta,T)\n",
    "    spectrum_G=nx.adjacency_spectrum(G)\n",
    "    plt.hist(spectrum_G,density=True,bins=100,histtype='step',color=color, label=ptype, linewidth=3)\n",
    "    \n",
    "\n",
    "spectrum_G=nx.adjacency_spectrum(RG)\n",
    "plt.hist(spectrum_G,density=True,bins=100,histtype='step',color='y', label='ER-random-graph', linewidth=3)\n",
    "\n",
    "spectrum_G=nx.adjacency_spectrum(BG)\n",
    "plt.hist(spectrum_G,density=True,bins=100,histtype='step',color='k', label='lim-degree-random-graph', linewidth=3)\n",
    "\n",
    "\n",
    "plt.legend()\n",
    "plt.show()\n"
   ]
  },
  {
   "cell_type": "code",
   "execution_count": null,
   "metadata": {},
   "outputs": [],
   "source": [
    "comm_RG=nx.algorithms.community.label_propagation.asyn_lpa_communities(RG)\n"
   ]
  },
  {
   "cell_type": "code",
   "execution_count": null,
   "metadata": {},
   "outputs": [],
   "source": [
    "filedir=\"/home/carina/Documents/2D_patchy/percolation_study/vsc3/runs/runs\"\n",
    "\n",
    "fig, ax = plt.subplots(figsize=(20,20))\n",
    "phi=0.125\n",
    "delta=0.2\n",
    "T=0.01\n",
    "\n",
    "colors=['r','g','b','m']\n",
    "ptypes= ['double_manta_asymm_1', 'double_mouse_asymm_1', 'double_mouse_symm_1', 'double_mouse_symm_2']\n",
    "\n",
    "for ptype, color in zip(ptypes, colors):\n",
    "    G=read_network(filedir,ptype,phi,delta,T)\n",
    "    comm_G=nx.algorithms.community.label_propagation.asyn_lpa_communities(G)\n",
    "    len_comm = [ len(c) for c in comm_G]\n",
    "\n",
    "    plt.hist(len_comm,density=True,bins=10,histtype='step',color=color, label=ptype, linewidth=3)\n",
    "\n",
    "comm_G=nx.algorithms.community.label_propagation.asyn_lpa_communities(RG)\n",
    "len_comm = [ len(c) for c in comm_G]\n",
    "plt.hist(len_comm,density=True,bins=10,histtype='step',color='y', label='ER-random-graph', linewidth=3)\n",
    "\n",
    "comm_G=nx.algorithms.community.label_propagation.asyn_lpa_communities(BG)\n",
    "len_comm = [ len(c) for c in comm_G]\n",
    "plt.hist(len_comm,density=True,bins=10,histtype='step',color='k', label='lim-degree-random-graph', linewidth=3)\n",
    "\n",
    "\n",
    "plt.legend()\n",
    "plt.show()"
   ]
  },
  {
   "cell_type": "code",
   "execution_count": null,
   "metadata": {},
   "outputs": [],
   "source": [
    "print(len(list(nx.bridges(RG))), len(list(nx.bridges(G))))"
   ]
  },
  {
   "cell_type": "code",
   "execution_count": null,
   "metadata": {},
   "outputs": [],
   "source": [
    "nx.has_bridges(G)"
   ]
  },
  {
   "cell_type": "code",
   "execution_count": null,
   "metadata": {},
   "outputs": [],
   "source": [
    "filedir=\"/home/carina/Documents/2D_patchy/percolation_study/vsc3/runs/runs\"\n",
    "phi=0.15\n",
    "\n",
    "delta=0.3\n",
    "T=0.01\n",
    "\n",
    "colors=['r','g','b','m']\n",
    "ptypes= ['double_manta_asymm_1', 'double_mouse_asymm_1', 'double_mouse_symm_1', 'double_mouse_symm_2']\n",
    "\n",
    "for ptype, color in zip(ptypes, colors):\n",
    "\n",
    "    G=read_network(filedir,ptype,phi,delta,T)\n",
    "    \n",
    "    largest_cc = max(nx.connected_components(G), key=len)\n",
    "    S = G.subgraph(largest_cc).copy()    \n",
    "\n",
    "    print(ptype)\n",
    "    \n",
    "    # average shortest path \n",
    "    print(\"average shortest paths\", nx.average_shortest_path_length(S))\n",
    "    \n",
    "    # betweenness centraliaty \n",
    "    bc = nx.betweenness_centrality(S)\n",
    "    values=np.zeros(len(G.nodes()))\n",
    "    \n",
    "    for key in bc:\n",
    "        values[key-1] = bc[key] \n",
    "        \n",
    "    print(np.min(values), np.max(values))\n",
    "    fig,ax=plt.subplots(figsize=(30,30))\n",
    "    plt.title(ptype)\n",
    "    nx.draw(G,pos=nx.spring_layout(G, iterations=500), node_size=70, cmap=plt.get_cmap('viridis'), node_color=values)\n",
    "    \n",
    "# Random graph \n",
    "\n",
    "bc = nx.betweenness_centrality(RS)\n",
    "values=np.zeros(len(G.nodes()))\n",
    "for key in bc:\n",
    "    values[key-1] = bc[key] \n",
    "    \n",
    "print(np.min(values), np.max(values))\n",
    "fig,ax=plt.subplots(figsize=(30,30))\n",
    "plt.title(\"E-R-random-graph\")\n",
    "nx.draw(RG,pos=nx.spring_layout(RG, iterations=500), node_size=70, cmap=plt.get_cmap('viridis'), node_color=values)\n",
    "print(nx.average_shortest_path_length(RS))\n",
    "\n",
    "print(np.min(values), np.max(values))\n",
    "bc = nx.betweenness_centrality(SB)\n",
    "values=np.zeros(len(G.nodes()))\n",
    "for key in bc:\n",
    "    values[key-1] = bc[key] \n",
    "\n",
    "fig,ax=plt.subplots(figsize=(30,30))\n",
    "plt.title(\"same-sequence-graph\")\n",
    "nx.draw(BG,pos=nx.spring_layout(BG, iterations=500), node_size=70, cmap=plt.get_cmap('viridis'), node_color=values)\n",
    "print(nx.average_shortest_path_length(SB))\n",
    "\n",
    "plt.show()\n"
   ]
  },
  {
   "cell_type": "code",
   "execution_count": null,
   "metadata": {},
   "outputs": [],
   "source": [
    "plt.show()"
   ]
  },
  {
   "cell_type": "code",
   "execution_count": null,
   "metadata": {},
   "outputs": [],
   "source": [
    "filedir=\"/home/carina/Documents/2D_patchy/percolation_study/vsc3/runs/runs\"\n",
    "phi=0.15\n",
    "\n",
    "delta=0.3\n",
    "T=0.01\n",
    "\n",
    "colors=['r','g','b','m']\n",
    "ptypes= ['double_manta_asymm_1', 'double_mouse_asymm_1', 'double_mouse_symm_1', 'double_mouse_symm_2']\n",
    "\n",
    "for ptype1 in ptypes:\n",
    "    for ptype2 in ptypes:\n",
    "        if ptype1 != ptype2:\n",
    "            G1=read_network(filedir,ptype1,phi,delta,T)\n",
    "            G2=read_network(filedir,ptype2,phi,delta,T)\n",
    "            print(ptype1,ptype2, nx.graph_edit_distance(G1, G2))"
   ]
  }
 ],
 "metadata": {
  "kernelspec": {
   "display_name": "Python 3",
   "language": "python",
   "name": "python3"
  },
  "language_info": {
   "codemirror_mode": {
    "name": "ipython",
    "version": 3
   },
   "file_extension": ".py",
   "mimetype": "text/x-python",
   "name": "python",
   "nbconvert_exporter": "python",
   "pygments_lexer": "ipython3",
   "version": "3.6.9"
  }
 },
 "nbformat": 4,
 "nbformat_minor": 2
}
